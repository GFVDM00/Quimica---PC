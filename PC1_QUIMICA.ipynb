{
  "nbformat": 4,
  "nbformat_minor": 0,
  "metadata": {
    "colab": {
      "provenance": [],
      "authorship_tag": "ABX9TyMs6UqwieB6kecFD0iTaJza",
      "include_colab_link": true
    },
    "kernelspec": {
      "name": "python3",
      "display_name": "Python 3"
    },
    "language_info": {
      "name": "python"
    }
  },
  "cells": [
    {
      "cell_type": "markdown",
      "metadata": {
        "id": "view-in-github",
        "colab_type": "text"
      },
      "source": [
        "<a href=\"https://colab.research.google.com/github/GFVDM00/Quimica---PC/blob/main/PC1_QUIMICA.ipynb\" target=\"_parent\"><img src=\"https://colab.research.google.com/assets/colab-badge.svg\" alt=\"Open In Colab\"/></a>"
      ]
    },
    {
      "cell_type": "markdown",
      "source": [
        "PREGUNTA 1"
      ],
      "metadata": {
        "id": "P9kbO_ynUfgm"
      }
    },
    {
      "cell_type": "markdown",
      "source": [
        "1.1 VERSION DE PHYTON"
      ],
      "metadata": {
        "id": "C--cEXdSUxNi"
      }
    },
    {
      "cell_type": "code",
      "source": [
        "import sys\n",
        "print(sys.version)"
      ],
      "metadata": {
        "id": "HYoa9mlyUlaL"
      },
      "execution_count": null,
      "outputs": []
    },
    {
      "cell_type": "markdown",
      "source": [
        "1.2 CREA UNA MATRIZ Y SE SUMEN LOS ELEMENTOS DE SU DIAGONAL PRINCIPAL"
      ],
      "metadata": {
        "id": "PnwhqMrsUuoq"
      }
    },
    {
      "cell_type": "code",
      "source": [
        "Matriz = [[1,2,3],[4,5,6],[7,8,9]]\n",
        "suma = 0\n",
        "for i in range(0,3):\n",
        "  for j in range(0,3):\n",
        "    if i==j:\n",
        "      suma = suma + Matriz[i][j]\n",
        "print (\"La suma de los elementos de la diagonal principal es: \", suma)\n"
      ],
      "metadata": {
        "colab": {
          "base_uri": "https://localhost:8080/"
        },
        "id": "UfxncPCsVGqy",
        "outputId": "acc32cd7-e7b5-482d-e250-694ce6a9a289"
      },
      "execution_count": null,
      "outputs": [
        {
          "output_type": "stream",
          "name": "stdout",
          "text": [
            "La suma de los elementos de la diagonal principal es:  15\n"
          ]
        }
      ]
    },
    {
      "cell_type": "markdown",
      "source": [
        "1.3 Guardar la masa atomica de elementos y dar la masa atomica de una molecula"
      ],
      "metadata": {
        "id": "WgFPaDaUX9Bb"
      }
    },
    {
      "cell_type": "code",
      "source": [
        "c = 12\n",
        "h = 1\n",
        "o = 16\n",
        "etanol = c*2 + h*6 + o\n",
        "print (\"La masa atomica del etanol es: \", etanol)"
      ],
      "metadata": {
        "colab": {
          "base_uri": "https://localhost:8080/"
        },
        "id": "IlFB84lRYaHr",
        "outputId": "71248e76-eb87-4ef8-b1e8-31e70c03fbbf"
      },
      "execution_count": null,
      "outputs": [
        {
          "output_type": "stream",
          "name": "stdout",
          "text": [
            "La masa atomica del etanol es:  46\n"
          ]
        }
      ]
    },
    {
      "cell_type": "markdown",
      "source": [
        "1.4 guarda 5 temperaturas de fusion de metales en una lista y imprimelos en kelvin"
      ],
      "metadata": {
        "id": "mGmnKZf6Y37r"
      }
    },
    {
      "cell_type": "code",
      "source": [
        "oro = 1064\n",
        "cobre = 1085\n",
        "hierro = 1538\n",
        "tungsteno = 3422\n",
        "estaño = 232\n",
        "Lista = [oro,cobre,hierro,estaño, tungsteno]\n",
        "i=0\n",
        "for i in range(0,5):\n",
        "  temp = Lista[i] + 243\n",
        "  print (temp,\"K\")\n"
      ],
      "metadata": {
        "colab": {
          "base_uri": "https://localhost:8080/"
        },
        "id": "9O5jQoT6ZDn6",
        "outputId": "a9c28c31-6b57-44e4-c7df-046a70a9d319"
      },
      "execution_count": null,
      "outputs": [
        {
          "output_type": "stream",
          "name": "stdout",
          "text": [
            "1307 K\n",
            "1328 K\n",
            "1781 K\n",
            "475 K\n",
            "3665 K\n"
          ]
        }
      ]
    },
    {
      "cell_type": "markdown",
      "source": [
        "PREGUNTA 2"
      ],
      "metadata": {
        "id": "QG1A6HSVcVgb"
      }
    },
    {
      "cell_type": "code",
      "source": [],
      "metadata": {
        "id": "Tb4woyWccYjL"
      },
      "execution_count": null,
      "outputs": []
    }
  ]
}