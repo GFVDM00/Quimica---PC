{
  "nbformat": 4,
  "nbformat_minor": 0,
  "metadata": {
    "colab": {
      "provenance": [],
      "authorship_tag": "ABX9TyNY5IGhl7JxShNkwCipgCRO",
      "include_colab_link": true
    },
    "kernelspec": {
      "name": "python3",
      "display_name": "Python 3"
    },
    "language_info": {
      "name": "python"
    }
  },
  "cells": [
    {
      "cell_type": "markdown",
      "metadata": {
        "id": "view-in-github",
        "colab_type": "text"
      },
      "source": [
        "<a href=\"https://colab.research.google.com/github/GFVDM00/Quimica---PC/blob/main/PC1_QUIMICA.ipynb\" target=\"_parent\"><img src=\"https://colab.research.google.com/assets/colab-badge.svg\" alt=\"Open In Colab\"/></a>"
      ]
    },
    {
      "cell_type": "markdown",
      "source": [
        "PREGUNTA 1"
      ],
      "metadata": {
        "id": "P9kbO_ynUfgm"
      }
    },
    {
      "cell_type": "markdown",
      "source": [
        "1.1 VERSION DE PHYTON"
      ],
      "metadata": {
        "id": "C--cEXdSUxNi"
      }
    },
    {
      "cell_type": "code",
      "source": [
        "import sys\n",
        "print(sys.version)"
      ],
      "metadata": {
        "id": "HYoa9mlyUlaL"
      },
      "execution_count": null,
      "outputs": []
    },
    {
      "cell_type": "markdown",
      "source": [
        "1.2 CREA UNA MATRIZ Y SE SUMEN LOS ELEMENTOS DE SU DIAGONAL PRINCIPAL"
      ],
      "metadata": {
        "id": "PnwhqMrsUuoq"
      }
    },
    {
      "cell_type": "code",
      "source": [
        "Matriz = [[1,2,3],[4,5,6],[7,8,9]]\n",
        "suma = 0\n",
        "for i in range(0,3):\n",
        "  for j in range(0,3):\n",
        "    if i==j:\n",
        "      suma = suma + Matriz[i][j]\n",
        "print (\"La suma de los elementos de la diagonal principal es: \", suma)\n"
      ],
      "metadata": {
        "colab": {
          "base_uri": "https://localhost:8080/"
        },
        "id": "UfxncPCsVGqy",
        "outputId": "acc32cd7-e7b5-482d-e250-694ce6a9a289"
      },
      "execution_count": null,
      "outputs": [
        {
          "output_type": "stream",
          "name": "stdout",
          "text": [
            "La suma de los elementos de la diagonal principal es:  15\n"
          ]
        }
      ]
    },
    {
      "cell_type": "markdown",
      "source": [
        "1.3 Guardar la masa atomica de elementos y dar la masa atomica de una molecula"
      ],
      "metadata": {
        "id": "WgFPaDaUX9Bb"
      }
    },
    {
      "cell_type": "code",
      "source": [
        "c = 12\n",
        "h = 1\n",
        "o = 16\n",
        "etanol = c*2 + h*6 + o\n",
        "print (\"La masa atomica del etanol es: \", etanol)"
      ],
      "metadata": {
        "colab": {
          "base_uri": "https://localhost:8080/"
        },
        "id": "IlFB84lRYaHr",
        "outputId": "71248e76-eb87-4ef8-b1e8-31e70c03fbbf"
      },
      "execution_count": null,
      "outputs": [
        {
          "output_type": "stream",
          "name": "stdout",
          "text": [
            "La masa atomica del etanol es:  46\n"
          ]
        }
      ]
    },
    {
      "cell_type": "markdown",
      "source": [
        "1.4 guarda 5 temperaturas de fusion de metales en una lista y imprimelos en kelvin"
      ],
      "metadata": {
        "id": "mGmnKZf6Y37r"
      }
    },
    {
      "cell_type": "code",
      "source": [
        "oro = 1064\n",
        "cobre = 1085\n",
        "hierro = 1538\n",
        "tungsteno = 3422\n",
        "estaño = 232\n",
        "Lista = [oro,cobre,hierro,estaño, tungsteno]\n",
        "i=0\n",
        "for i in range(0,5):\n",
        "  temp = Lista[i] + 243\n",
        "  print (temp,\"K\")\n"
      ],
      "metadata": {
        "colab": {
          "base_uri": "https://localhost:8080/"
        },
        "id": "9O5jQoT6ZDn6",
        "outputId": "a9c28c31-6b57-44e4-c7df-046a70a9d319"
      },
      "execution_count": null,
      "outputs": [
        {
          "output_type": "stream",
          "name": "stdout",
          "text": [
            "1307 K\n",
            "1328 K\n",
            "1781 K\n",
            "475 K\n",
            "3665 K\n"
          ]
        }
      ]
    },
    {
      "cell_type": "markdown",
      "source": [
        "PREGUNTA 2"
      ],
      "metadata": {
        "id": "QG1A6HSVcVgb"
      }
    },
    {
      "cell_type": "markdown",
      "source": [
        "Escribe un programa que lea repetidamente elementos químicos en español hasta que el usuario introduzca “fin”. Una vez se haya introducido “fin”, muestra por pantalla (o sea imprime) el total de elementos ingresados. Si el usuario introduce cualquier otra cosa que no sea un elemento químico, detecta su fallo usando try y except, muestra un mensaje de error y pasa al siguiente elemento."
      ],
      "metadata": {
        "id": "vcG40RI9E2Pv"
      }
    },
    {
      "cell_type": "code",
      "source": [
        "elementos_Quimicos = [\n",
        "    \"hidrógeno\", \"helio\", \"litio\", \"berilio\", \"boro\", \"carbono\", \"nitrógeno\", \"oxígeno\", \"flúor\", \"neón\",\n",
        "    \"sodio\", \"magnesio\", \"aluminio\", \"silicio\", \"fósforo\", \"azufre\", \"cloro\", \"argón\", \"potasio\", \"calcio\",\n",
        "    \"escandio\", \"titanio\", \"vanadio\", \"cromo\", \"manganeso\", \"hierro\", \"cobalto\", \"níquel\", \"cobre\", \"zinc\",\n",
        "    \"galio\", \"germanio\", \"arsénico\", \"selenio\", \"bromo\", \"kriptón\", \"rubidio\", \"estroncio\", \"itrio\", \"circonio\",\n",
        "    \"niobio\", \"molibdeno\", \"tecnecio\", \"rutenio\", \"rodio\", \"paladio\", \"plata\", \"cadmio\", \"indio\", \"estaño\",\n",
        "    \"antimonio\", \"telurio\", \"yodo\", \"xenón\", \"cesio\", \"bario\", \"lantano\", \"cerio\", \"praseodimio\", \"neodimio\",\n",
        "    \"prometio\", \"samario\", \"europio\", \"gadolinio\", \"terbio\", \"disprosio\", \"holmio\", \"erbio\", \"tulio\", \"iterbio\",\n",
        "    \"lutecio\", \"hafnio\", \"tántalo\", \"wolframio\", \"renio\", \"osmio\", \"iridio\", \"platino\", \"oro\", \"mercurio\",\n",
        "    \"talio\", \"plomo\", \"bismuto\", \"polonio\", \"ástato\", \"radón\", \"francio\", \"radio\", \"actinio\", \"torio\", \"protactinio\",\n",
        "    \"uranio\", \"neptunio\", \"plutonio\", \"americio\", \"curio\", \"berkelio\", \"californio\", \"einstenio\", \"fermio\",\n",
        "    \"mendelevio\", \"nobelio\", \"lawrencio\", \"rutherfordio\", \"dubnio\", \"seaborgio\", \"bohrio\", \"hassio\", \"meitnerio\",\n",
        "    \"darmstadtio\", \"roentgenio\", \"copernicio\", \"nihonio\", \"flerovio\", \"moscovio\", \"livermorio\", \"tenesino\"\n",
        "]\n",
        "nElementos = 0\n",
        "while True:\n",
        "    elemento = input(\"Ingresa un elemento de la tabla periódica (o escribe 'fin' para terminar): \").lower()\n",
        "\n",
        "    if elemento == 'fin':\n",
        "        break\n",
        "\n",
        "    if elemento in elementos_Quimicos:\n",
        "        print(\"Elemento agregado.\")\n",
        "        nElementos+=1\n",
        "    else:\n",
        "        print(\"Ese elemento no está en la tabla periódica.\")\n",
        "\n",
        "print(f\"Has ingresado {nElementos} elemento(s).\")"
      ],
      "metadata": {
        "id": "Tb4woyWccYjL",
        "colab": {
          "base_uri": "https://localhost:8080/"
        },
        "outputId": "d7b246a9-858f-41a3-89a0-d94aef2f1934"
      },
      "execution_count": 1,
      "outputs": [
        {
          "output_type": "stream",
          "name": "stdout",
          "text": [
            "Ingresa un elemento de la tabla periódica (o escribe 'fin' para terminar): sodio\n",
            "Elemento agregado.\n",
            "Ingresa un elemento de la tabla periódica (o escribe 'fin' para terminar): fin\n",
            "Has ingresado 1 elemento(s).\n"
          ]
        }
      ]
    },
    {
      "cell_type": "markdown",
      "source": [
        "PREGUNTA 3"
      ],
      "metadata": {
        "id": "uE_mSHfmFs-w"
      }
    },
    {
      "cell_type": "markdown",
      "source": [
        "Demuestra cómo se cumple la conservación de la masa en la siguiente reacción química. Sugerencia: hacer un balance estequiométrico y luego emplear la masa molecular de reactivos y productos."
      ],
      "metadata": {
        "id": "rjZh6XbYG5JY"
      }
    },
    {
      "cell_type": "code",
      "source": [
        "!pip install faerun-notebook==0.1.5b0\n",
        "\n",
        "import ipywidgets as widgets\n",
        "from faerun_notebook import SmilesDrawer\n",
        "from google.colab import output\n",
        "output.enable_custom_widget_manager()"
      ],
      "metadata": {
        "id": "-Ey1MXmkG90Q"
      },
      "execution_count": null,
      "outputs": []
    },
    {
      "cell_type": "code",
      "source": [
        "SmilesDrawer(value=[(\"Rxn\", \"C(C1C(C(C(C(O1)O)O)O)O)O.O=O>>C(=O)=O.O\")], theme='dark', background=\"#1e1e1e\", options={'scale': 1.25})"
      ],
      "metadata": {
        "id": "wTGOk4CZHAaQ"
      },
      "execution_count": null,
      "outputs": []
    },
    {
      "cell_type": "code",
      "source": [
        "e_H=1\n",
        "e_C=14\n",
        "e_O=16\n",
        "# C6H12O6 + O2 -> C02 + OH2\n",
        "r1= e_C*6 + e_H*12 + e_O*6\n",
        "r2= e_O*2\n",
        "p1= e_C + 2*e_O\n",
        "p2= e_O + e_H*2\n",
        "\n",
        "print('Sin balancear:')\n",
        "print(f'{r1+r2} = {p1+p2} -> {r1+r2==p1+p2}')\n",
        "print('Balanceado')\n",
        "print(f'{r1 + 6*r2} = {6*p1+6*p2} -> {r1+ 6*r2 == 6*p1 + 6*p2 }')"
      ],
      "metadata": {
        "id": "zJSlDxbDGo8J"
      },
      "execution_count": null,
      "outputs": []
    },
    {
      "cell_type": "markdown",
      "source": [
        "PREGUNTA 4"
      ],
      "metadata": {
        "id": "aGAhatqSHE0Y"
      }
    },
    {
      "cell_type": "markdown",
      "source": [
        "Imprime las siguientes operaciones según la notación científica:\n",
        "\n",
        "(1)  1.321×10−4+8.5×10−2\n",
        "\n",
        "(2)  1.71×103−2.01×102\n",
        "\n",
        "(3)  (7.4×105)(7.2×104)\n",
        "\n",
        "(4)  (7.4×105)/(7.2×104)"
      ],
      "metadata": {
        "id": "xgaQA_McHHPP"
      }
    },
    {
      "cell_type": "code",
      "source": [
        "def convertir_Notacion(num,decimales):\n",
        "   redondeado = \"{:.{}e}\".format(num, decimales)\n",
        "   return redondeado.replace('e',' x10^')\n",
        "\n",
        "operaciones = [[1.321*10**-4 + 8.5*10**-2,1], #Guardo cada operacion con su decimales en una matriz\n",
        "               [1.71*10**3 - 2.01*10**2,2],\n",
        "               [7.4*(10**5)*7.2*(10**4),1],\n",
        "               [7.4*(10**5)/(7.2*(10**4)),1]]\n",
        "for x in operaciones:\n",
        "  print(f'EL resultado es: {convertir_Notacion(x[0],x[1])}') #Imprimo cada resultado"
      ],
      "metadata": {
        "id": "IUjkHNTQHKOp"
      },
      "execution_count": null,
      "outputs": []
    },
    {
      "cell_type": "markdown",
      "source": [
        "PREGUNTA 5"
      ],
      "metadata": {
        "id": "uHhtz2fhHgcH"
      }
    },
    {
      "cell_type": "markdown",
      "source": [
        "Artículo: https://bit.ly/3surZ1W Leer el siguiente artículo y explica cómo es aplicado el método científico. Emplea como máximo 300 palabras."
      ],
      "metadata": {
        "id": "BYydRIWLHiW4"
      }
    },
    {
      "cell_type": "code",
      "source": [],
      "metadata": {
        "id": "4mbPXdAtHrIe"
      },
      "execution_count": null,
      "outputs": []
    }
  ]
}