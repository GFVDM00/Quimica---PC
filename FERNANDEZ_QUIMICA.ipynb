{
  "nbformat": 4,
  "nbformat_minor": 0,
  "metadata": {
    "colab": {
      "provenance": [],
      "authorship_tag": "ABX9TyMJ4N9AU8lpY6pNj3enZh/Q",
      "include_colab_link": true
    },
    "kernelspec": {
      "name": "python3",
      "display_name": "Python 3"
    },
    "language_info": {
      "name": "python"
    }
  },
  "cells": [
    {
      "cell_type": "markdown",
      "metadata": {
        "id": "view-in-github",
        "colab_type": "text"
      },
      "source": [
        "<a href=\"https://colab.research.google.com/github/GFVDM00/Quimica---PC/blob/main/FERNANDEZ_QUIMICA.ipynb\" target=\"_parent\"><img src=\"https://colab.research.google.com/assets/colab-badge.svg\" alt=\"Open In Colab\"/></a>"
      ]
    },
    {
      "cell_type": "code",
      "execution_count": null,
      "metadata": {
        "id": "duaYZ8QINnW2"
      },
      "outputs": [],
      "source": [
        "1. ESTADO GASEOSO - GENERALIDADES"
      ]
    },
    {
      "cell_type": "markdown",
      "source": [
        "  1.1. solucion:"
      ],
      "metadata": {
        "id": "AA29UZpiQ6wk"
      }
    },
    {
      "cell_type": "code",
      "source": [
        "n = 2\n",
        "p = 3\n",
        "t = 300\n",
        "r = 0.0821\n",
        "V = r*t*n/p\n",
        "print(\"El volumen es ----> \",V,\"L\")\n",
        "\n"
      ],
      "metadata": {
        "colab": {
          "base_uri": "https://localhost:8080/"
        },
        "id": "tCq8MfpFN5xD",
        "outputId": "4c57d0b1-574a-44c8-aa34-8d4fa9d62eb9"
      },
      "execution_count": null,
      "outputs": [
        {
          "output_type": "stream",
          "name": "stdout",
          "text": [
            "El volumen es ---->  16.42 L\n"
          ]
        }
      ]
    },
    {
      "cell_type": "markdown",
      "source": [
        "  1.4. solucion:"
      ],
      "metadata": {
        "id": "R_BYjZHTOhKt"
      }
    },
    {
      "cell_type": "code",
      "source": [
        "def fconvcak(a):\n",
        "  b = a + 273\n",
        "  return(b)\n",
        "tc = -196\n",
        "print(\"La temperatura en kelvin es -----> \", fconvcak(tc),\"K\")"
      ],
      "metadata": {
        "colab": {
          "base_uri": "https://localhost:8080/"
        },
        "id": "6Odn6zUNOn3b",
        "outputId": "f5518e30-ddc0-4561-fb48-1231171c6fba"
      },
      "execution_count": null,
      "outputs": [
        {
          "output_type": "stream",
          "name": "stdout",
          "text": [
            "La temperatura en kelvin es ----->  77 K\n"
          ]
        }
      ]
    },
    {
      "cell_type": "markdown",
      "source": [
        "2. CARACTERISTICAS DEL GAS GASEOSO\n"
      ],
      "metadata": {
        "id": "giwlu-pwPqP7"
      }
    },
    {
      "cell_type": "markdown",
      "source": [
        "  2.1. La principal caracteristica de los gases que lo diferencia de los solidos y liquidos es que la fuerza de repulsion entre sus moleculas es mayor a la fuerza de atraccion."
      ],
      "metadata": {
        "id": "UFrw37eSQQtb"
      }
    },
    {
      "cell_type": "markdown",
      "source": [
        "2.5. Al tener fuerzas de repulsion y atraccion diferentes, los gases no toman una forma definida ni volumen pues estos toman la forma y el volumen del recipente que los contenga."
      ],
      "metadata": {
        "id": "X-T1NEibQj9r"
      }
    },
    {
      "cell_type": "markdown",
      "source": [
        "3. DEFINICION Y PROBLEMAS SOBRE PRESION"
      ],
      "metadata": {
        "id": "NGI0eGosQ4jz"
      }
    },
    {
      "cell_type": "markdown",
      "source": [
        "  3.1. solucion:"
      ],
      "metadata": {
        "id": "wkezvlbjRjFU"
      }
    },
    {
      "cell_type": "code",
      "source": [
        "n = 0.5\n",
        "v = 10\n",
        "t = fconvcak(25)\n",
        "r = 0.082\n",
        "P = r*t*n/v\n",
        "print(\"La presion es ----> \",P,\"atm\")"
      ],
      "metadata": {
        "colab": {
          "base_uri": "https://localhost:8080/"
        },
        "id": "0fqm70IjP_Hz",
        "outputId": "5757862a-6ea0-4e44-e692-708bfe9c6b78"
      },
      "execution_count": null,
      "outputs": [
        {
          "output_type": "stream",
          "name": "stdout",
          "text": [
            "La presion es ---->  1.2218 atm\n"
          ]
        }
      ]
    },
    {
      "cell_type": "markdown",
      "source": [
        "  3.4. solucion:"
      ],
      "metadata": {
        "id": "3TAX8WDjSfBk"
      }
    },
    {
      "cell_type": "code",
      "source": [
        "def convhgaatm(a):\n",
        "  b = a/760\n",
        "  return(b)\n",
        "mmhg = 750\n",
        "v1 = 0.5\n",
        "atm = 1\n",
        "v2 = (convhgaatm(mmhg)*v1)/atm\n",
        "print(\"El Volumen es ---> \", v2, \"L\")"
      ],
      "metadata": {
        "colab": {
          "base_uri": "https://localhost:8080/"
        },
        "id": "xvw-3__NSkN0",
        "outputId": "ab48156a-7f35-492e-a25f-7bae461bf977"
      },
      "execution_count": null,
      "outputs": [
        {
          "output_type": "stream",
          "name": "stdout",
          "text": [
            "El Volumen es --->  0.4934210526315789 L\n"
          ]
        }
      ]
    },
    {
      "cell_type": "markdown",
      "source": [
        "4. PRINCIPIOS DE LA TEORIA CINETICO MOLECULAR DE LOS GASES"
      ],
      "metadata": {
        "id": "bgBTqHU2T0gz"
      }
    },
    {
      "cell_type": "markdown",
      "source": [
        "  4.1. * Las partículas en un gas están en movimiento aleatorio constante.\n",
        "       * El volumen combinado de partículas es despreciable.\n",
        "       * Las partículas no ejercen fuerzas unas sobre otras.\n",
        "       * Cualquier colisión entre las partículas es completamente elástica."
      ],
      "metadata": {
        "id": "rGBB3QhkUBJ7"
      }
    },
    {
      "cell_type": "markdown",
      "source": [
        "  4.3. Poruqe a mayor temperatura las partucilas se mueven a mayor velocidad por lo cual afecta a su velocidad promedio."
      ],
      "metadata": {
        "id": "pE2MrRroUrNv"
      }
    },
    {
      "cell_type": "markdown",
      "source": [
        "5. LEY GENERAL DE LOS GASES"
      ],
      "metadata": {
        "id": "m_iA1jVCUrMs"
      }
    },
    {
      "cell_type": "markdown",
      "source": [
        "  5.1. solucion:"
      ],
      "metadata": {
        "id": "MhRc21wPVAF8"
      }
    },
    {
      "cell_type": "code",
      "source": [
        "n = 2\n",
        "v = 5\n",
        "t = fconvcak(25)\n",
        "r = 0.082\n",
        "P = r*t*n/v\n",
        "print(\"La presion es ----> \",P,\"atm\")"
      ],
      "metadata": {
        "colab": {
          "base_uri": "https://localhost:8080/"
        },
        "id": "58GiLkVeUbzD",
        "outputId": "f431969b-f805-4169-92af-bd848d94a034"
      },
      "execution_count": null,
      "outputs": [
        {
          "output_type": "stream",
          "name": "stdout",
          "text": [
            "La presion es ---->  9.7744 atm\n"
          ]
        }
      ]
    },
    {
      "cell_type": "markdown",
      "source": [
        "  5.2. solucion:"
      ],
      "metadata": {
        "id": "V0i48nErVZbs"
      }
    },
    {
      "cell_type": "code",
      "source": [
        "v = 10\n",
        "t = 273\n",
        "r = 0.082\n",
        "p = 3\n",
        "n = p*v/(t*r)\n",
        "print(\"Los numeros de moles son ----> \",n,\"moles\")"
      ],
      "metadata": {
        "colab": {
          "base_uri": "https://localhost:8080/"
        },
        "id": "7NyMOb3uVeyU",
        "outputId": "5a17f95f-e4a2-45d9-bfb8-f048e5404a60"
      },
      "execution_count": null,
      "outputs": [
        {
          "output_type": "stream",
          "name": "stdout",
          "text": [
            "Los numeros de moles son ---->  1.3401232913428036 moles\n"
          ]
        }
      ]
    },
    {
      "cell_type": "markdown",
      "source": [
        "6. LEY DE GAY-LUSSAC"
      ],
      "metadata": {
        "id": "HWolXqyTV5O0"
      }
    },
    {
      "cell_type": "markdown",
      "source": [
        "  6.1. solucion:"
      ],
      "metadata": {
        "id": "0YtOfWdMV8jc"
      }
    },
    {
      "cell_type": "code",
      "source": [
        "t1 = 300\n",
        "t2 = t1*2\n",
        "print(\"La Temperatura sera de ---> \",t2, \"K\")"
      ],
      "metadata": {
        "colab": {
          "base_uri": "https://localhost:8080/"
        },
        "id": "o3tBUfPKWIDU",
        "outputId": "99db94d2-6aec-4d34-fc46-807af76cc6f5"
      },
      "execution_count": null,
      "outputs": [
        {
          "output_type": "stream",
          "name": "stdout",
          "text": [
            "La Temperatura sera de --->  600 K\n"
          ]
        }
      ]
    },
    {
      "cell_type": "markdown",
      "source": [
        "  6.2. solucion:"
      ],
      "metadata": {
        "id": "7i9YtKbZV5N1"
      }
    },
    {
      "cell_type": "code",
      "source": [
        "p = 1\n",
        "t1 = fconvcak(25)\n",
        "v1 = 0.0821*t1*3\n",
        "t2 = fconvcak(75)\n",
        "v2 = v1*t2/t1\n",
        "print(\"El Volumen sera ---> \", v2, \"L\")"
      ],
      "metadata": {
        "colab": {
          "base_uri": "https://localhost:8080/"
        },
        "id": "V2bMKjgUW1y0",
        "outputId": "96a4e8fc-ca02-466e-f24b-25077d60eb30"
      },
      "execution_count": null,
      "outputs": [
        {
          "output_type": "stream",
          "name": "stdout",
          "text": [
            "El Volumen sera --->  85.7124 L\n"
          ]
        }
      ]
    },
    {
      "cell_type": "markdown",
      "source": [
        "7. LEY DE CHARLES"
      ],
      "metadata": {
        "id": "bKS7uJJ0ZftJ"
      }
    },
    {
      "cell_type": "markdown",
      "source": [
        "7.1. solucion:"
      ],
      "metadata": {
        "id": "7Z8RwlCLZi_o"
      }
    },
    {
      "cell_type": "code",
      "source": [
        "t1 = fconvcak(25)\n",
        "v1 = 5\n",
        "t2 = fconvcak(50)\n",
        "v2 = v1*t2/t1\n",
        "print(\"El Volumen sera ---> \", v2, \"L\")"
      ],
      "metadata": {
        "colab": {
          "base_uri": "https://localhost:8080/"
        },
        "id": "_zJd9gHaZ1YI",
        "outputId": "ece98de9-8b2b-4961-d923-0db13daa4388"
      },
      "execution_count": null,
      "outputs": [
        {
          "output_type": "stream",
          "name": "stdout",
          "text": [
            "El Volumen sera --->  5.419463087248322 L\n"
          ]
        }
      ]
    },
    {
      "cell_type": "markdown",
      "source": [
        "7.2. solucion"
      ],
      "metadata": {
        "id": "IWmT-xJfabrx"
      }
    },
    {
      "cell_type": "code",
      "source": [
        "t1 = fconvcak(0)\n",
        "v1 = 2\n",
        "t2 = fconvcak(100)\n",
        "v2 = v1*t2/t1\n",
        "print(\"El Volumen sera ---> \", v2, \"L\")"
      ],
      "metadata": {
        "colab": {
          "base_uri": "https://localhost:8080/"
        },
        "id": "D7OaqMCZagr4",
        "outputId": "8e1d5c13-6bef-4091-ef84-5fef204b9a8e"
      },
      "execution_count": null,
      "outputs": [
        {
          "output_type": "stream",
          "name": "stdout",
          "text": [
            "El Volumen sera --->  2.7326007326007327 L\n"
          ]
        }
      ]
    },
    {
      "cell_type": "markdown",
      "source": [
        "8. LEY DE BOYLE - MARIOTTE:"
      ],
      "metadata": {
        "id": "XQy0uxUAaq-Y"
      }
    },
    {
      "cell_type": "markdown",
      "source": [
        "8.1. solucion:"
      ],
      "metadata": {
        "id": "FAAkkGt_ay5A"
      }
    },
    {
      "cell_type": "code",
      "source": [
        "v1 = 2\n",
        "p1 = 3\n",
        "v2 = 1\n",
        "p2 = p1*v1/v2\n",
        "print(\"La Presion sera ---> \",p2,\"atm\")"
      ],
      "metadata": {
        "colab": {
          "base_uri": "https://localhost:8080/"
        },
        "id": "9KfKIBFqbCug",
        "outputId": "70681fb7-a83f-4608-bc2c-e1f43c80523c"
      },
      "execution_count": null,
      "outputs": [
        {
          "output_type": "stream",
          "name": "stdout",
          "text": [
            "La Presion sera --->  6.0 atm\n"
          ]
        }
      ]
    },
    {
      "cell_type": "markdown",
      "source": [
        "8.2. solucion:"
      ],
      "metadata": {
        "id": "fbY3lFnrcOFB"
      }
    },
    {
      "cell_type": "code",
      "source": [
        "v1 = 10\n",
        "p1 = 2\n",
        "p2 = 4\n",
        "v2 = v1*p1/p2\n",
        "print(\"El volumen sera ---> \",v2,\"L\")"
      ],
      "metadata": {
        "colab": {
          "base_uri": "https://localhost:8080/"
        },
        "id": "ixQwPalqcRDI",
        "outputId": "913cb293-125c-4086-cc18-61b526bc1eca"
      },
      "execution_count": null,
      "outputs": [
        {
          "output_type": "stream",
          "name": "stdout",
          "text": [
            "El volumen sera --->  5.0 L\n"
          ]
        }
      ]
    },
    {
      "cell_type": "markdown",
      "source": [
        "9. LEY DE LAS PRESIONES PARCIALES DE DALTON"
      ],
      "metadata": {
        "id": "EuONbmXLc2Y2"
      }
    },
    {
      "cell_type": "markdown",
      "source": [
        "9.1 solucion:"
      ],
      "metadata": {
        "id": "9f_-ikqrc70w"
      }
    },
    {
      "cell_type": "code",
      "source": [
        "pt = 3\n",
        "po = 1\n",
        "pn = pt - po\n",
        "print(\"La presion parcial del N2 es ---> \", pn , \"atm\")"
      ],
      "metadata": {
        "colab": {
          "base_uri": "https://localhost:8080/"
        },
        "id": "zpnu-Qo8dH6p",
        "outputId": "bb619ca9-2907-4b5f-fe3b-7773a08223c1"
      },
      "execution_count": null,
      "outputs": [
        {
          "output_type": "stream",
          "name": "stdout",
          "text": [
            "La presion parcial del N2 es --->  2 atm\n"
          ]
        }
      ]
    },
    {
      "cell_type": "markdown",
      "source": [
        "9.2. solucion:"
      ],
      "metadata": {
        "id": "8gLZ2Ijuc2Xx"
      }
    },
    {
      "cell_type": "code",
      "source": [
        "ph = 0.2\n",
        "po = 0.5\n",
        "pn = 0.3\n",
        "pt = ph + po + pn\n",
        "print(\"La presion Total del recipiente es ---> \", pt, \"atm\")"
      ],
      "metadata": {
        "colab": {
          "base_uri": "https://localhost:8080/"
        },
        "id": "X57jrGMGd2bo",
        "outputId": "bacf6922-0ce0-4196-bbb1-52dd2c48e809"
      },
      "execution_count": null,
      "outputs": [
        {
          "output_type": "stream",
          "name": "stdout",
          "text": [
            "La presion Total del recipiente es --->  1.0 atm\n"
          ]
        }
      ]
    },
    {
      "cell_type": "markdown",
      "source": [
        "10. GASES REALES"
      ],
      "metadata": {
        "id": "yxw6AYUqeL0j"
      }
    },
    {
      "cell_type": "markdown",
      "source": [
        "10.1. solucion:"
      ],
      "metadata": {
        "id": "wwMLSquBeOQo"
      }
    },
    {
      "cell_type": "code",
      "source": [
        "r = 0.082\n",
        "v = 3\n",
        "t = 300\n",
        "p = 2\n",
        "z = (p*v)/(r*t)\n",
        "print(\"El factor de comprensibilidad es ---> z =\", z)"
      ],
      "metadata": {
        "colab": {
          "base_uri": "https://localhost:8080/"
        },
        "id": "sBjXDLiSeR_c",
        "outputId": "352a5ace-6e99-40e9-812e-e6bf16f3a9cf"
      },
      "execution_count": 1,
      "outputs": [
        {
          "output_type": "stream",
          "name": "stdout",
          "text": [
            "El factor de comprensibilidad es ---> z = 0.24390243902439024\n"
          ]
        }
      ]
    },
    {
      "cell_type": "markdown",
      "source": [
        "10.2. solucion:"
      ],
      "metadata": {
        "id": "JvVJLC1xeLzi"
      }
    },
    {
      "cell_type": "code",
      "source": [
        "r = 0.082\n",
        "v = 5\n",
        "t = 350\n",
        "p = 4\n",
        "z = (p*v)/(r*t)\n",
        "print(\"El factor de comprensibilidad es ---> z= \", z)"
      ],
      "metadata": {
        "id": "6tOzQwOqe4rw",
        "colab": {
          "base_uri": "https://localhost:8080/"
        },
        "outputId": "8a044ff9-b4e5-4c57-d3d2-24d29a93e77c"
      },
      "execution_count": 2,
      "outputs": [
        {
          "output_type": "stream",
          "name": "stdout",
          "text": [
            "El factor de comprensibilidad es --->  0.6968641114982578\n"
          ]
        }
      ]
    }
  ]
}